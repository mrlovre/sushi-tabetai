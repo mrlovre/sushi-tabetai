{
 "cells": [
  {
   "cell_type": "markdown",
   "metadata": {
    "toc": true
   },
   "source": [
    "<h1>Table of Contents<span class=\"tocSkip\"></span></h1>\n",
    "<div class=\"toc\" style=\"margin-top: 1em;\"><ul class=\"toc-item\"></ul></div>"
   ]
  },
  {
   "cell_type": "code",
   "execution_count": 1,
   "metadata": {
    "ExecuteTime": {
     "end_time": "2018-06-09T20:43:05.735498Z",
     "start_time": "2018-06-09T20:43:05.463688Z"
    }
   },
   "outputs": [],
   "source": [
    "import sys\n",
    "from bs4 import BeautifulSoup\n",
    "from urllib.request import urlopen, HTTPError\n",
    "from urllib.parse import quote\n",
    "import pdb\n",
    "import pandas as pd"
   ]
  },
  {
   "cell_type": "code",
   "execution_count": 2,
   "metadata": {
    "ExecuteTime": {
     "end_time": "2018-06-09T20:43:05.768876Z",
     "start_time": "2018-06-09T20:43:05.766800Z"
    }
   },
   "outputs": [],
   "source": [
    "URL = \"https://en.wiktionary.org/wiki/{word}\""
   ]
  },
  {
   "cell_type": "code",
   "execution_count": 3,
   "metadata": {
    "ExecuteTime": {
     "end_time": "2018-06-09T20:43:05.963116Z",
     "start_time": "2018-06-09T20:43:05.959750Z"
    }
   },
   "outputs": [],
   "source": [
    "def get_bs(word):\n",
    "    try:\n",
    "        with urlopen(URL.format(word=quote(word))) as response:\n",
    "            html_data = response.read()\n",
    "        return BeautifulSoup(html_data, \"lxml\")\n",
    "    except HTTPError:\n",
    "        return None"
   ]
  },
  {
   "cell_type": "code",
   "execution_count": 4,
   "metadata": {
    "ExecuteTime": {
     "end_time": "2018-06-09T20:43:06.149741Z",
     "start_time": "2018-06-09T20:43:06.142985Z"
    }
   },
   "outputs": [],
   "source": [
    "def get_elements(parser):\n",
    "    root = parser.find(\"span\", id=\"Serbo-Croatian\").parent\n",
    "    elements = []\n",
    "    current = root\n",
    "    while current is not None and current.name != \"hr\":\n",
    "        elements.append(current)\n",
    "        current = current.find_next_sibling()\n",
    "    return elements"
   ]
  },
  {
   "cell_type": "code",
   "execution_count": 5,
   "metadata": {
    "ExecuteTime": {
     "end_time": "2018-06-09T20:43:06.439697Z",
     "start_time": "2018-06-09T20:43:06.424241Z"
    }
   },
   "outputs": [],
   "source": [
    "def get_word_data(elements):\n",
    "    state = None\n",
    "    iterator = iter(elements)\n",
    "    try:\n",
    "        while True:\n",
    "            element = next(iterator)\n",
    "            text = element.text\n",
    "            \n",
    "            if text.endswith(\"[edit]\"):\n",
    "                text = text[:-len(\"[edit]\")]\n",
    "                \n",
    "            if text == \"Serbo-Croatian\":\n",
    "                pass\n",
    "            elif text == \"Etymology\":\n",
    "                next(iterator)\n",
    "            elif text == \"Pronunciation\":\n",
    "                next(iterator)\n",
    "            elif text == \"Derived terms\":\n",
    "                next(iterator)\n",
    "            elif text == \"Alternative forms\":\n",
    "                next(iterator)\n",
    "            elif text == \"References\":\n",
    "                next(iterator)\n",
    "            elif text == \"Noun\":\n",
    "                result = process_noun(iterator)\n",
    "            elif text == \"Verb\":\n",
    "                result = process_verb(iterator)\n",
    "            else:\n",
    "                print(f\"Unknown element: {text}\")\n",
    "    except StopIteration:\n",
    "        pass\n",
    "    \n",
    "    return result"
   ]
  },
  {
   "cell_type": "code",
   "execution_count": 6,
   "metadata": {
    "ExecuteTime": {
     "end_time": "2018-06-09T20:43:06.748682Z",
     "start_time": "2018-06-09T20:43:06.742654Z"
    }
   },
   "outputs": [],
   "source": [
    "def process_noun(iterator):\n",
    "    word = next(iterator).text\n",
    "    meanings = next(iterator).text\n",
    "    next(iterator)\n",
    "    declension = parse_declension(next(iterator))\n",
    "    return word, meanings, declension"
   ]
  },
  {
   "cell_type": "code",
   "execution_count": 7,
   "metadata": {
    "ExecuteTime": {
     "end_time": "2018-06-09T20:43:07.141913Z",
     "start_time": "2018-06-09T20:43:07.130669Z"
    }
   },
   "outputs": [],
   "source": [
    "def parse_declension(element):\n",
    "    import re\n",
    "    \n",
    "    text = element.text\n",
    "    fields = re.split(r\"\\n+\", text.strip())[1:]\n",
    "    if len(fields) == 23:\n",
    "        fields = fields[2:]\n",
    "        index = [fields[3 * i] for i in range(7)]\n",
    "        singular = [fields[3 * i + 1] for i in range(7)]\n",
    "        plural = [fields[3 * i + 2] for i in range(7)]\n",
    "        table = pd.DataFrame(data={\"singular\": singular, \"plural\": plural}, index=index, columns=[\"singular\", \"plural\"])\n",
    "    elif len(fields) == 15:\n",
    "        fields = fields[1:]\n",
    "        index = [fields[2 * i] for i in range(7)]\n",
    "        plural = [fields[2 * i + 1] for i in range(7)]\n",
    "        table = pd.DataFrame(data={\"plural\": plural}, index=index, columns=[\"plural\"])\n",
    "    else:\n",
    "        raise ValueError(f\"Fields length is {len(fields)}.\")\n",
    "    \n",
    "    return table"
   ]
  },
  {
   "cell_type": "code",
   "execution_count": 8,
   "metadata": {
    "ExecuteTime": {
     "end_time": "2018-06-09T20:43:07.363768Z",
     "start_time": "2018-06-09T20:43:07.357133Z"
    }
   },
   "outputs": [],
   "source": [
    "def process_verb(iterator):\n",
    "    word = next(iterator).text\n",
    "    meanings = next(iterator).text\n",
    "    next(iterator)\n",
    "    conjugation = parse_conjugation(next(iterator))\n",
    "    next(iterator)\n",
    "    next(iterator)\n",
    "    return word, meanings, conjugation"
   ]
  },
  {
   "cell_type": "code",
   "execution_count": 9,
   "metadata": {
    "ExecuteTime": {
     "end_time": "2018-06-09T20:43:07.712254Z",
     "start_time": "2018-06-09T20:43:07.694975Z"
    }
   },
   "outputs": [],
   "source": [
    "def parse_conjugation(element):\n",
    "    import re\n",
    "    from collections import OrderedDict\n",
    "\n",
    "    text = element.contents[3].text\n",
    "    fields = re.split(r\"\\n+\", text.strip())\n",
    "    iterator = iter(fields)\n",
    "\n",
    "    infinitive, pres_verb_adv, past_verb_adv, verb_noun = ([field.split(\": \")[1] for field in [next(iterator) for _ in range(4)]])\n",
    "\n",
    "    special = pd.Series([infinitive, pres_verb_adv, past_verb_adv, verb_noun], \n",
    "                        index=[\"Infinitive\", \"Present verbal adverb\", \"Past verbal adverb\", \"Verbal noun\"])\n",
    "\n",
    "    for _ in range(17):\n",
    "        next(iterator)\n",
    "\n",
    "    values = OrderedDict()\n",
    "    values[\"Present\"] = [next(iterator) for _ in range(7)][1:]\n",
    "    next(iterator)\n",
    "    values[\"Future I\"] = [next(iterator).replace(\"1\", \"; \") for _ in range(7)][1:]\n",
    "    values[\"Future II\"] = [next(iterator).replace(\"2\", \"\") for _ in range(7)][1:]\n",
    "    next(iterator)\n",
    "    values[\"Perfect\"] = [next(iterator).replace(\"2\", \"\") for _ in range(7)][1:]\n",
    "    values[\"Pluperfect\"] = [next(iterator).replace(\"2\", \"\") for _ in range(7)][1:]\n",
    "    values[\"Imperfect\"] = [next(iterator).replace(\"2\", \"\") for _ in range(7)][1:]\n",
    "    values[\"Conditional I\"] = [next(iterator).replace(\"2\", \"\")  for _ in range(7)][1:]\n",
    "    values[\"Conditional II\"] = [next(iterator).replace(\"2\", \"\")  for _ in range(7)][1:]\n",
    "    values[\"Imperative\"] = [next(iterator) for _ in range(7)][1:]\n",
    "    \n",
    "    columns = pd.MultiIndex.from_product([[\"Singular\", \"Plural\"], [\"1st\", \"2nd\", \"3rd\"]])\n",
    "    \n",
    "    table = pd.DataFrame(values, index=columns)\n",
    "\n",
    "    return special, table"
   ]
  },
  {
   "cell_type": "code",
   "execution_count": 10,
   "metadata": {
    "ExecuteTime": {
     "end_time": "2018-06-09T20:43:08.361791Z",
     "start_time": "2018-06-09T20:43:07.924930Z"
    }
   },
   "outputs": [],
   "source": [
    "kocka = get_word_data(get_elements(get_bs(\"kocka\")))"
   ]
  },
  {
   "cell_type": "code",
   "execution_count": 11,
   "metadata": {
    "ExecuteTime": {
     "end_time": "2018-06-09T20:43:08.429310Z",
     "start_time": "2018-06-09T20:43:08.414931Z"
    }
   },
   "outputs": [
    {
     "name": "stdout",
     "output_type": "stream",
     "text": [
      "\\begin{tabular}{lll}\n",
      "\\toprule\n",
      "{} & singular &          plural \\\\\n",
      "\\midrule\n",
      "nominative   &    kȍcka &           kocke \\\\\n",
      "genitive     &    kocke &  kȍcākā / kȍckī \\\\\n",
      "dative       &    kocki &         kockama \\\\\n",
      "accusative   &    kocku &           kocke \\\\\n",
      "vocative     &    kocko &           kocke \\\\\n",
      "locative     &    kocki &         kockama \\\\\n",
      "instrumental &   kockom &         kockama \\\\\n",
      "\\bottomrule\n",
      "\\end{tabular}\n",
      "\n"
     ]
    },
    {
     "data": {
      "text/plain": [
       "<function pandas.core.generic.NDFrame.to_latex(self, buf=None, columns=None, col_space=None, header=True, index=True, na_rep='NaN', formatters=None, float_format=None, sparsify=None, index_names=True, bold_rows=False, column_format=None, longtable=None, escape=None, encoding=None, decimal='.', multicolumn=None, multicolumn_format=None, multirow=None)>"
      ]
     },
     "execution_count": 11,
     "metadata": {},
     "output_type": "execute_result"
    }
   ],
   "source": [
    "print(kocka[2].to_latex())\n",
    "pd.DataFrame.to_latex"
   ]
  },
  {
   "cell_type": "code",
   "execution_count": 12,
   "metadata": {
    "ExecuteTime": {
     "end_time": "2018-06-09T20:43:09.161283Z",
     "start_time": "2018-06-09T20:43:08.943099Z"
    }
   },
   "outputs": [
    {
     "name": "stdout",
     "output_type": "stream",
     "text": [
      "vráta n pl (Cyrillic spelling вра́та)\n",
      "\n",
      "\n",
      "(plural only) door\n",
      "\n",
      "               plural\n",
      "nominative      vrata\n",
      "genitive        vrata\n",
      "dative        vratima\n",
      "accusative      vrata\n",
      "vocative        vrata\n",
      "locative      vratima\n",
      "instrumental  vratima\n"
     ]
    }
   ],
   "source": [
    "print(*get_word_data(get_elements(get_bs(\"vrata\"))), sep=\"\\n\\n\")"
   ]
  },
  {
   "cell_type": "code",
   "execution_count": 13,
   "metadata": {
    "ExecuteTime": {
     "end_time": "2018-06-09T20:43:10.468728Z",
     "start_time": "2018-06-09T20:43:10.101546Z"
    }
   },
   "outputs": [
    {
     "name": "stdout",
     "output_type": "stream",
     "text": [
      "cvijȇće n (Cyrillic spelling цвије̑ће)\n",
      "\n",
      "\n",
      "(collectively) flowers\n",
      "\n",
      "                plural\n",
      "nominative     cvijeće\n",
      "genitive       cvijeća\n",
      "dative         cvijeću\n",
      "accusative     cvijeće\n",
      "vocative       cvijeće\n",
      "locative       cvijeću\n",
      "instrumental  cvijećem\n"
     ]
    }
   ],
   "source": [
    "print(*get_word_data(get_elements(get_bs(\"cvijeće\"))), sep=\"\\n\\n\")"
   ]
  },
  {
   "cell_type": "code",
   "execution_count": 14,
   "metadata": {
    "ExecuteTime": {
     "end_time": "2018-06-09T20:43:10.966366Z",
     "start_time": "2018-06-09T20:43:10.485642Z"
    }
   },
   "outputs": [
    {
     "name": "stdout",
     "output_type": "stream",
     "text": [
      "rȃsti impf (Cyrillic spelling ра̑сти)\n",
      "\n",
      "\n",
      "(intransitive) to grow\n",
      "(intransitive) to increase\n",
      "(intransitive) to accrue, to accumulate\n",
      "\n",
      "(Infinitive                 rasti\n",
      "Present verbal adverb    rástūći\n",
      "Past verbal adverb             —\n",
      "Verbal noun                    —\n",
      "dtype: object,               Present            Future I     Future II     Perfect  \\\n",
      "Singular 1st   rastem      rast ću; rašću  budem rastao  rastao sam   \n",
      "         2nd   rasteš    rast ćeš; rašćeš  budeš rastao   rastao si   \n",
      "         3rd    raste      rast će; rašće   bude rastao   rastao je   \n",
      "Plural   1st  rastemo  rast ćemo; rašćemo  budemo rasli   rasli smo   \n",
      "         2nd  rastete  rast ćete; rašćete  budete rasli   rasli ste   \n",
      "         3rd    rastu      rast će; rašće    budu rasli    rasli su   \n",
      "\n",
      "                  Pluperfect   Imperfect Conditional I    Conditional II  \\\n",
      "Singular 1st  bio sam rastao    rastijah    rastao bih    bio bih rastao   \n",
      "         2nd   bio si rastao   rastijaše     rastao bi     bio bi rastao   \n",
      "         3rd   bio je rastao   rastijaše     rastao bi     bio bi rastao   \n",
      "Plural   1st  bili smo rasli  rastijasmo   rasli bismo  bili bismo rasli   \n",
      "         2nd  bili ste rasli  rastijaste   rasli biste  bili biste rasli   \n",
      "         3rd   bili su rasli   rastijahu      rasli bi     bili bi rasli   \n",
      "\n",
      "             Imperative  \n",
      "Singular 1st          —  \n",
      "         2nd      rasti  \n",
      "         3rd          —  \n",
      "Plural   1st    rastimo  \n",
      "         2nd    rastite  \n",
      "         3rd          —  )\n"
     ]
    }
   ],
   "source": [
    "print(*get_word_data(get_elements(get_bs(\"rasti\"))), sep=\"\\n\\n\")"
   ]
  },
  {
   "cell_type": "code",
   "execution_count": 15,
   "metadata": {
    "ExecuteTime": {
     "end_time": "2018-06-09T20:43:11.628064Z",
     "start_time": "2018-06-09T20:43:11.334149Z"
    }
   },
   "outputs": [],
   "source": [
    "rasti = get_word_data(get_elements(get_bs(\"rasti\")))"
   ]
  },
  {
   "cell_type": "code",
   "execution_count": 16,
   "metadata": {
    "ExecuteTime": {
     "end_time": "2018-06-09T20:43:12.538612Z",
     "start_time": "2018-06-09T20:43:12.516879Z"
    }
   },
   "outputs": [
    {
     "name": "stdout",
     "output_type": "stream",
     "text": [
      "\\begin{tabular}{lll}\n",
      "\\toprule\n",
      "       &     &  Present \\\\\n",
      "\\midrule\n",
      "Singular & 1st &   rastem \\\\\n",
      "       & 2nd &   rasteš \\\\\n",
      "       & 3rd &    raste \\\\\n",
      "Plural & 1st &  rastemo \\\\\n",
      "       & 2nd &  rastete \\\\\n",
      "       & 3rd &    rastu \\\\\n",
      "\\bottomrule\n",
      "\\end{tabular}\n",
      "\n"
     ]
    }
   ],
   "source": [
    "print(rasti[2][1][[\"Present\"]].to_latex())"
   ]
  },
  {
   "cell_type": "code",
   "execution_count": 17,
   "metadata": {
    "ExecuteTime": {
     "end_time": "2018-06-09T20:43:12.817663Z",
     "start_time": "2018-06-09T20:43:12.790251Z"
    }
   },
   "outputs": [
    {
     "name": "stdout",
     "output_type": "stream",
     "text": [
      "\\begin{tabular}{ll}\n",
      "\\toprule\n",
      "{} &        0 \\\\\n",
      "\\midrule\n",
      "Infinitive            &    rasti \\\\\n",
      "Present verbal adverb &  rástūći \\\\\n",
      "Past verbal adverb    &        — \\\\\n",
      "Verbal noun           &        — \\\\\n",
      "\\bottomrule\n",
      "\\end{tabular}\n",
      "\n",
      "\\begin{tabular}{llllll}\n",
      "\\toprule\n",
      "       &     &  Present &     Perfect &            Future I &      Pluperfect \\\\\n",
      "\\midrule\n",
      "Singular & 1st &   rastem &  rastao sam &      rast ću; rašću &  bio sam rastao \\\\\n",
      "       & 2nd &   rasteš &   rastao si &    rast ćeš; rašćeš &   bio si rastao \\\\\n",
      "       & 3rd &    raste &   rastao je &      rast će; rašće &   bio je rastao \\\\\n",
      "Plural & 1st &  rastemo &   rasli smo &  rast ćemo; rašćemo &  bili smo rasli \\\\\n",
      "       & 2nd &  rastete &   rasli ste &  rast ćete; rašćete &  bili ste rasli \\\\\n",
      "       & 3rd &    rastu &    rasli su &      rast će; rašće &   bili su rasli \\\\\n",
      "\\bottomrule\n",
      "\\end{tabular}\n",
      "\n",
      "\\begin{tabular}{lllllll}\n",
      "\\toprule\n",
      "       &     &   Imperfect &     Future II & Conditional I &    Conditional II & Imperative \\\\\n",
      "\\midrule\n",
      "Singular & 1st &    rastijah &  budem rastao &    rastao bih &    bio bih rastao &          — \\\\\n",
      "       & 2nd &   rastijaše &  budeš rastao &     rastao bi &     bio bi rastao &      rasti \\\\\n",
      "       & 3rd &   rastijaše &   bude rastao &     rastao bi &     bio bi rastao &          — \\\\\n",
      "Plural & 1st &  rastijasmo &  budemo rasli &   rasli bismo &  bili bismo rasli &    rastimo \\\\\n",
      "       & 2nd &  rastijaste &  budete rasli &   rasli biste &  bili biste rasli &    rastite \\\\\n",
      "       & 3rd &   rastijahu &    budu rasli &      rasli bi &     bili bi rasli &          — \\\\\n",
      "\\bottomrule\n",
      "\\end{tabular}\n",
      "\n"
     ]
    }
   ],
   "source": [
    "print(rasti[2][0].to_latex())\n",
    "print(rasti[2][1][[\"Present\", \"Perfect\", \"Future I\", \"Pluperfect\"]].to_latex())\n",
    "print(rasti[2][1][[\"Imperfect\", \"Future II\", \"Conditional I\", \"Conditional II\", \"Imperative\"]].to_latex())"
   ]
  },
  {
   "cell_type": "code",
   "execution_count": 18,
   "metadata": {
    "ExecuteTime": {
     "end_time": "2018-06-09T20:43:13.037720Z",
     "start_time": "2018-06-09T20:43:13.024132Z"
    }
   },
   "outputs": [
    {
     "data": {
      "text/plain": [
       "(Infinitive                 rasti\n",
       " Present verbal adverb    rástūći\n",
       " Past verbal adverb             —\n",
       " Verbal noun                    —\n",
       " dtype: object,\n",
       "               Present            Future I     Future II     Perfect  \\\n",
       " Singular 1st   rastem      rast ću; rašću  budem rastao  rastao sam   \n",
       "          2nd   rasteš    rast ćeš; rašćeš  budeš rastao   rastao si   \n",
       "          3rd    raste      rast će; rašće   bude rastao   rastao je   \n",
       " Plural   1st  rastemo  rast ćemo; rašćemo  budemo rasli   rasli smo   \n",
       "          2nd  rastete  rast ćete; rašćete  budete rasli   rasli ste   \n",
       "          3rd    rastu      rast će; rašće    budu rasli    rasli su   \n",
       " \n",
       "                   Pluperfect   Imperfect Conditional I    Conditional II  \\\n",
       " Singular 1st  bio sam rastao    rastijah    rastao bih    bio bih rastao   \n",
       "          2nd   bio si rastao   rastijaše     rastao bi     bio bi rastao   \n",
       "          3rd   bio je rastao   rastijaše     rastao bi     bio bi rastao   \n",
       " Plural   1st  bili smo rasli  rastijasmo   rasli bismo  bili bismo rasli   \n",
       "          2nd  bili ste rasli  rastijaste   rasli biste  bili biste rasli   \n",
       "          3rd   bili su rasli   rastijahu      rasli bi     bili bi rasli   \n",
       " \n",
       "              Imperative  \n",
       " Singular 1st          —  \n",
       "          2nd      rasti  \n",
       "          3rd          —  \n",
       " Plural   1st    rastimo  \n",
       "          2nd    rastite  \n",
       "          3rd          —  )"
      ]
     },
     "execution_count": 18,
     "metadata": {},
     "output_type": "execute_result"
    }
   ],
   "source": [
    "rasti[2]"
   ]
  },
  {
   "cell_type": "code",
   "execution_count": 19,
   "metadata": {
    "ExecuteTime": {
     "end_time": "2018-06-09T20:43:13.557566Z",
     "start_time": "2018-06-09T20:43:13.548785Z"
    }
   },
   "outputs": [
    {
     "name": "stdout",
     "output_type": "stream",
     "text": [
      "\\begin{itemize}\n",
      "\\item (intransitive) to grow\n",
      "\\item (intransitive) to increase\n",
      "\\item (intransitive) to accrue, to accumulate\n",
      "\\end{itemize}\n"
     ]
    }
   ],
   "source": [
    "print(r\"\\begin{itemize}\")\n",
    "print(*[r\"\\item \" + r for r in rasti[1].splitlines()], sep=\"\\n\")\n",
    "print(r\"\\end{itemize}\")"
   ]
  },
  {
   "cell_type": "code",
   "execution_count": 20,
   "metadata": {
    "ExecuteTime": {
     "end_time": "2018-06-09T20:43:14.157411Z",
     "start_time": "2018-06-09T20:43:14.150954Z"
    }
   },
   "outputs": [
    {
     "name": "stdout",
     "output_type": "stream",
     "text": [
      "rȃsti impf (Cyrillic spelling ра̑сти)\n",
      "\n"
     ]
    }
   ],
   "source": [
    "print(rasti[0])"
   ]
  },
  {
   "cell_type": "code",
   "execution_count": null,
   "metadata": {},
   "outputs": [],
   "source": []
  }
 ],
 "metadata": {
  "kernelspec": {
   "display_name": "Python 3",
   "language": "python",
   "name": "python3"
  },
  "language_info": {
   "codemirror_mode": {
    "name": "ipython",
    "version": 3
   },
   "file_extension": ".py",
   "mimetype": "text/x-python",
   "name": "python",
   "nbconvert_exporter": "python",
   "pygments_lexer": "ipython3",
   "version": "3.6.5"
  },
  "toc": {
   "nav_menu": {},
   "number_sections": true,
   "sideBar": true,
   "skip_h1_title": false,
   "toc_cell": true,
   "toc_position": {},
   "toc_section_display": "block",
   "toc_window_display": false
  },
  "varInspector": {
   "cols": {
    "lenName": 16,
    "lenType": 16,
    "lenVar": 40
   },
   "kernels_config": {
    "python": {
     "delete_cmd_postfix": "",
     "delete_cmd_prefix": "del ",
     "library": "var_list.py",
     "varRefreshCmd": "print(var_dic_list())"
    },
    "r": {
     "delete_cmd_postfix": ") ",
     "delete_cmd_prefix": "rm(",
     "library": "var_list.r",
     "varRefreshCmd": "cat(var_dic_list()) "
    }
   },
   "types_to_exclude": [
    "module",
    "function",
    "builtin_function_or_method",
    "instance",
    "_Feature"
   ],
   "window_display": false
  }
 },
 "nbformat": 4,
 "nbformat_minor": 2
}
